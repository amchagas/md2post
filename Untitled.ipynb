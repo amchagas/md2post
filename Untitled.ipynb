{
 "cells": [
  {
   "cell_type": "code",
   "execution_count": 1,
   "id": "67e781c8-9d60-4836-b17b-fd082840627e",
   "metadata": {},
   "outputs": [],
   "source": [
    "import os\n",
    "from datetime import datetime"
   ]
  },
  {
   "cell_type": "code",
   "execution_count": 4,
   "id": "3e194e39-f5c7-4cfb-bf29-1a5549ad2b25",
   "metadata": {},
   "outputs": [],
   "source": [
    "fileList=[\"/home/andre/repositories/sussex-neuro/odour-stimulator/README.md\",\n",
    "          \"/home/andre/repositories/sussex-neuro/inclusive-EEG-electrodes/README.md\",\n",
    "         ]"
   ]
  },
  {
   "cell_type": "code",
   "execution_count": null,
   "id": "d4d4327f-4518-4a6f-8d64-d9bdba9e11c4",
   "metadata": {},
   "outputs": [],
   "source": []
  },
  {
   "cell_type": "code",
   "execution_count": 5,
   "id": "42b0aada-27e4-4afd-9d4e-6538dadf9528",
   "metadata": {},
   "outputs": [],
   "source": [
    "for item in fileList:\n",
    "    with open(item,\"r\") as fid:\n",
    "        data = fid.readlines()\n",
    "\n",
    "    title = data[0][2:-1]\n",
    "    today = datetime.now().strftime(\"%Y-%m-%d\")\n",
    "    date = today+\"\"\n",
    "    author = \"[andre]\"\n",
    "    layout = \"post\"\n",
    "    if \"#### tags: \\n\" in data:\n",
    "        tagsInd = data.index('#### tags: \\n')\n",
    "        tags = \"[\"+data[tagsInd+1][:-1] + \"]\"\n",
    "\n",
    "    else:\n",
    "        tags = \"[]\"\n",
    "        tagsInd = -1\n",
    "    \n",
    "    content = data[1:tagsInd]\n",
    "    categories = tags\n",
    "    \n",
    "    titleFolder = item[item.rfind(\"/\",0,item.rfind(\"/\")-1)+1:item.rfind(\"/\")]\n",
    "    \n",
    "    if titleFolder not in os.listdir():\n",
    "        os.mkdir(titleFolder)\n",
    "    with open(\"./\"+titleFolder+\"/index.md\",\"w\") as indexFid:\n",
    "        indexFid.writelines([\n",
    "                    \n",
    "        \"---\\n\",\n",
    "        \"title: '\"+title +\"' \\n\",\n",
    "        \"date: \"+date+\" \\n\",\n",
    "        \"authors: \" +author+\" \\n\",\n",
    "        \"layout: [\"+layout+\"] \\n\",\n",
    "        \"categories: \"+categories+\" \\n\",\n",
    "        \"tags: \"+tags + \" \\n\",\n",
    "    \n",
    "        \"---\\n\",\n",
    "        \"\\n\",\n",
    "\n",
    "\n",
    "        ])\n",
    "        indexFid.writelines(content)"
   ]
  },
  {
   "cell_type": "code",
   "execution_count": 6,
   "id": "7308de8b-a841-41e9-90c0-d1c9110099d8",
   "metadata": {},
   "outputs": [],
   "source": [
    "#folder check\n",
    "#titleFolder = title.lower()\n",
    "#titleFolder = titleFolder.replace(\". \",\"\")\n",
    "#titleFolder = titleFolder.replace(\".\",\"\")\n",
    "#titleFolder = titleFolder.replace(\",\",\"\")\n",
    "#titleFolder = titleFolder.replace(\" \", \"_\")\n"
   ]
  },
  {
   "cell_type": "code",
   "execution_count": 7,
   "id": "9836c427-802f-4b95-a619-0601ff656a2b",
   "metadata": {},
   "outputs": [],
   "source": [
    "\n",
    "#indexFid.close()"
   ]
  },
  {
   "cell_type": "code",
   "execution_count": 8,
   "id": "387ccba8-5124-4849-8f99-25afcfe1a10e",
   "metadata": {},
   "outputs": [
    {
     "data": {
      "text/plain": [
       "'# FL-inclusive-EEG-electrodes'"
      ]
     },
     "execution_count": 8,
     "metadata": {},
     "output_type": "execute_result"
    }
   ],
   "source": [
    "data[tagsInd+1][:-1]"
   ]
  },
  {
   "cell_type": "code",
   "execution_count": 9,
   "id": "d749292e-31c0-4e7c-8d48-f1eced30766c",
   "metadata": {},
   "outputs": [
    {
     "data": {
      "text/plain": [
       "'# FL-inclusive-EEG-electrodes'"
      ]
     },
     "execution_count": 9,
     "metadata": {},
     "output_type": "execute_result"
    }
   ],
   "source": [
    "data[0][:-1]"
   ]
  },
  {
   "cell_type": "code",
   "execution_count": 10,
   "id": "fc81c817-796a-40e8-8ea7-ce98aefb12e3",
   "metadata": {},
   "outputs": [
    {
     "data": {
      "text/plain": [
       "True"
      ]
     },
     "execution_count": 10,
     "metadata": {},
     "output_type": "execute_result"
    }
   ],
   "source": [
    "\"index.md\" in os.listdir()"
   ]
  },
  {
   "cell_type": "code",
   "execution_count": 92,
   "id": "9d23af5a-5696-4e47-91de-a3cfaf15ffa4",
   "metadata": {},
   "outputs": [
    {
     "ename": "ValueError",
     "evalue": "substring not found",
     "output_type": "error",
     "traceback": [
      "\u001b[0;31m---------------------------------------------------------------------------\u001b[0m",
      "\u001b[0;31mValueError\u001b[0m                                Traceback (most recent call last)",
      "\u001b[0;32m<ipython-input-92-2c320c7c24f2>\u001b[0m in \u001b[0;36m<module>\u001b[0;34m\u001b[0m\n\u001b[1;32m      1\u001b[0m \u001b[0mitem\u001b[0m  \u001b[0;34m=\u001b[0m \u001b[0mfileList\u001b[0m\u001b[0;34m[\u001b[0m\u001b[0;36m0\u001b[0m\u001b[0;34m]\u001b[0m\u001b[0;34m\u001b[0m\u001b[0;34m\u001b[0m\u001b[0m\n\u001b[0;32m----> 2\u001b[0;31m \u001b[0mitem\u001b[0m\u001b[0;34m.\u001b[0m\u001b[0mindex\u001b[0m\u001b[0;34m(\u001b[0m\u001b[0;34m\"/\"\u001b[0m\u001b[0;34m,\u001b[0m\u001b[0;34m-\u001b[0m\u001b[0;36m1\u001b[0m\u001b[0;34m)\u001b[0m\u001b[0;34m\u001b[0m\u001b[0;34m\u001b[0m\u001b[0m\n\u001b[0m",
      "\u001b[0;31mValueError\u001b[0m: substring not found"
     ]
    }
   ],
   "source": [
    "item  = fileList[0]\n",
    "item.index(\"/\",-1)"
   ]
  },
  {
   "cell_type": "code",
   "execution_count": 93,
   "id": "c7d2a9a1-92ff-4044-90a3-f66862885730",
   "metadata": {},
   "outputs": [
    {
     "data": {
      "text/plain": [
       "'/home/andre/repositories/sussex-neuro/odour-stimulator/README.md'"
      ]
     },
     "execution_count": 93,
     "metadata": {},
     "output_type": "execute_result"
    }
   ],
   "source": [
    "fileList[0]"
   ]
  },
  {
   "cell_type": "code",
   "execution_count": 107,
   "id": "2d81c143-6db9-41cc-b77a-444c6d612a6d",
   "metadata": {},
   "outputs": [
    {
     "data": {
      "text/plain": [
       "37"
      ]
     },
     "execution_count": 107,
     "metadata": {},
     "output_type": "execute_result"
    }
   ],
   "source": [
    "item.rfind(\"/\",0,item.rfind(\"/\")-1)"
   ]
  },
  {
   "cell_type": "code",
   "execution_count": 110,
   "id": "51e7ccc1-3c3f-4c46-8ff2-bbb7c58d40c9",
   "metadata": {},
   "outputs": [
    {
     "data": {
      "text/plain": [
       "'odour-stimulator'"
      ]
     },
     "execution_count": 110,
     "metadata": {},
     "output_type": "execute_result"
    }
   ],
   "source": []
  },
  {
   "cell_type": "code",
   "execution_count": null,
   "id": "fb932c8f-af03-47ba-a5ee-6f307e20d594",
   "metadata": {},
   "outputs": [],
   "source": []
  }
 ],
 "metadata": {
  "kernelspec": {
   "display_name": "Python 3",
   "language": "python",
   "name": "python3"
  },
  "language_info": {
   "codemirror_mode": {
    "name": "ipython",
    "version": 3
   },
   "file_extension": ".py",
   "mimetype": "text/x-python",
   "name": "python",
   "nbconvert_exporter": "python",
   "pygments_lexer": "ipython3",
   "version": "3.8.5"
  }
 },
 "nbformat": 4,
 "nbformat_minor": 5
}
